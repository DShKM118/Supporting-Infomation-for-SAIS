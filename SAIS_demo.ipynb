{
 "cells": [
  {
   "cell_type": "code",
   "execution_count": 1,
   "metadata": {},
   "outputs": [
    {
     "name": "stderr",
     "output_type": "stream",
     "text": [
      "\u001b[32m\u001b[1m  Activating\u001b[22m\u001b[39m project at `d:\\julialy`\n"
     ]
    }
   ],
   "source": [
    "include(\"d:/SI/SAIS_demo.jl\")\n",
    "mat = matopen(\"d:/SI/library2d.mat\")\n",
    "reference2d = read(mat, \"dict\")\n",
    "close(mat)\n",
    "mat = matopen(\"d:/SI/library3d.mat\")\n",
    "reference3d = read(mat, \"dict\")\n",
    "close(mat)"
   ]
  },
  {
   "cell_type": "code",
   "execution_count": 2,
   "metadata": {},
   "outputs": [
    {
     "name": "stdout",
     "output_type": "stream",
     "text": [
      "LAM: test passed, N=10(stage1), residual = 0.0(stage2)"
     ]
    },
    {
     "name": "stdout",
     "output_type": "stream",
     "text": [
      "\n",
      "LAMs: test passed, N=10(stage1), residual = 0.0(stage2)\n"
     ]
    },
    {
     "name": "stdout",
     "output_type": "stream",
     "text": [
      "SC: test passed, N=10(stage1), residual = 0.0(stage2)"
     ]
    },
    {
     "name": "stdout",
     "output_type": "stream",
     "text": [
      "\n",
      "BCC: test passed, N=10(stage1), residual = 0.0(stage2)\n"
     ]
    },
    {
     "name": "stdout",
     "output_type": "stream",
     "text": [
      "FCC: test passed, N=10(stage1), residual = 0.0(stage2)\n"
     ]
    },
    {
     "name": "stdout",
     "output_type": "stream",
     "text": [
      "GYR: test passed, N=10(stage1), residual = 0.0(stage2)\n"
     ]
    },
    {
     "name": "stdout",
     "output_type": "stream",
     "text": [
      "A15: test passed, N=10(stage1), residual = 0.0(stage2)\n"
     ]
    },
    {
     "name": "stdout",
     "output_type": "stream",
     "text": [
      "SPC: test passed, N=10(stage1), residual = 0.0(stage2)\n"
     ]
    },
    {
     "name": "stdout",
     "output_type": "stream",
     "text": [
      "SG: test passed, N=10(stage1), residual = 0.0(stage2)\n"
     ]
    },
    {
     "name": "stdout",
     "output_type": "stream",
     "text": [
      "DD: test passed, N=10(stage1), residual = 0.0(stage2)\n"
     ]
    },
    {
     "name": "stdout",
     "output_type": "stream",
     "text": [
      "PL: test passed, N=10(stage1), residual = 0.0(stage2)\n"
     ]
    }
   ],
   "source": [
    "# Example1:Cubic\n",
    "for key in [\"LAM\", \"LAMs\", \"SC\", \"BCC\", \"FCC\", \"GYR\", \"A15\", \"SPC\", \"SG\", \"DD\", \"PL\"]\n",
    "    stage1_output = stage1(\"d:/SI/tests/$key.mat\", reference3d; system=Cubic())[1]\n",
    "    stage2_output = stage2(\"d:/SI/tests/$key.mat\", reference3d; system=Cubic())[1]\n",
    "    N = stage1_output[2]\n",
    "    residual = stage2_output[2]\n",
    "    if stage1_output[1] == key && stage2_output[1] == key && stage1_output[2] == 10 \n",
    "        println(\"$key: test passed, N=$N(stage1), residual = $residual(stage2)\")\n",
    "    end\n",
    "end"
   ]
  },
  {
   "cell_type": "code",
   "execution_count": 3,
   "metadata": {},
   "outputs": [
    {
     "name": "stdout",
     "output_type": "stream",
     "text": [
      "SPC: test passed, N=10(stage1), residual = 0.0(stage2)"
     ]
    },
    {
     "name": "stdout",
     "output_type": "stream",
     "text": [
      "\n",
      "O70: test passed, N=10(stage1), residual = 0.0(stage2)\n"
     ]
    },
    {
     "name": "stdout",
     "output_type": "stream",
     "text": [
      "HCP_orthogonal: test passed, N=10(stage1), residual = 0.0(stage2)\n"
     ]
    }
   ],
   "source": [
    "# Example2:Orthorhombic\n",
    "for key in [\"SPC\", \"O70\", \"HCP_orthogonal\"]\n",
    "    stage1_output = stage1(\"d:/SI/tests/$key.mat\", reference3d; system=Orthorhombic())[1]\n",
    "    stage2_output = stage2(\"d:/SI/tests/$key.mat\", reference3d; system=Orthorhombic())[1]\n",
    "    N = stage1_output[2]\n",
    "    residual = stage2_output[2]\n",
    "    if stage1_output[1] == key && stage2_output[1] == key && stage1_output[2] == 10 \n",
    "        println(\"$key: test passed, N=$N(stage1), residual = $residual(stage2)\")\n",
    "    end\n",
    "end"
   ]
  },
  {
   "cell_type": "code",
   "execution_count": 4,
   "metadata": {},
   "outputs": [
    {
     "name": "stdout",
     "output_type": "stream",
     "text": [
      "HEX: test passed, N=10(stage1), residual = 0.0(stage2)\n"
     ]
    }
   ],
   "source": [
    "# Example3:HEX(2D)\n",
    "for key in [\"HEX\"]\n",
    "    stage1_output = stage1(\"d:/SI/tests/$key.mat\", reference2d; system=Hexagonal2D())[1]\n",
    "    stage2_output = stage2(\"d:/SI/tests/$key.mat\", reference2d; system=Hexagonal2D())[1]\n",
    "    N = stage1_output[2]\n",
    "    residual = stage2_output[2]\n",
    "    if stage1_output[1] == key && stage2_output[1] == key && stage1_output[2] == 10 \n",
    "        println(\"$key: test passed, N=$N(stage1), residual = $residual(stage2)\")\n",
    "    end\n",
    "end"
   ]
  },
  {
   "cell_type": "code",
   "execution_count": 5,
   "metadata": {},
   "outputs": [
    {
     "name": "stdout",
     "output_type": "stream",
     "text": [
      "[14.89575916974882, 0.004896102019133154, 0.0380638117100274]\n",
      "[0.13499489105811283, 0.019318857919337462, 13.871397311296366]\n",
      "[14.518997125864054, 0.04792317376563919, 12.434531211565744]\n",
      "[22.391176249447287, 0.007313926801159964, 0.049293110766679235]\n",
      "[0.04929311076667923, 0.007313926801159956, 22.39117624944722]\n",
      "[20.76636324762238,"
     ]
    },
    {
     "name": "stdout",
     "output_type": "stream",
     "text": [
      " 0.03298919357833111, 20.766363208376863]\n"
     ]
    }
   ],
   "source": [
    "# Example4:multi-species \n",
    "# The variance of the structural species is significantly higher than that of the background species.\n",
    "println(modified_variance.(read_structure_detail(\"d:/SI/tests/SC_0.12_ABC_A.mat\")[1]))\n",
    "println(modified_variance.(read_structure_detail(\"d:/SI/tests/SC_0.15_ABC_C.mat\")[1]))\n",
    "println(modified_variance.(read_structure_detail(\"d:/SI/tests/CsCl_ABC_[0.11,0.75,0.14]_50.mat\")[1]))\n",
    "println(modified_variance.(read_structure_detail(\"d:/SI/tests/FCCa_ABC_[0.11,0.82,0.07]_55.mat\")[1]))\n",
    "println(modified_variance.(read_structure_detail(\"d:/SI/tests/FCCc_ABC_[0.07,0.82,0.11]_55.mat\")[1]))\n",
    "println(modified_variance.(read_structure_detail(\"d:/SI/tests/NaCl_ABC_[0.11,0.78,0.11]_55.mat\")[1]))"
   ]
  },
  {
   "cell_type": "code",
   "execution_count": 6,
   "metadata": {},
   "outputs": [
    {
     "name": "stdout",
     "output_type": "stream",
     "text": [
      "Sigma_[1.8,1.8,1.0]: test passed, N=10(stage1), residual = 0.0(stage2)"
     ]
    },
    {
     "name": "stdout",
     "output_type": "stream",
     "text": [
      "\n",
      "Sigma_[1.9,1.9,1.0]: test passed, N=10(stage1), residual = 0.0(stage2)\n"
     ]
    },
    {
     "name": "stdout",
     "output_type": "stream",
     "text": [
      "Sigma_[2.0,2.0,1.0]: test passed, N=10(stage1), residual = 0.0(stage2)\n"
     ]
    }
   ],
   "source": [
    "# Example5:varying a/c ratio\n",
    "for key in [\"Sigma_[1.8,1.8,1.0]\", \"Sigma_[1.9,1.9,1.0]\", \"Sigma_[2.0,2.0,1.0]\"]\n",
    "    stage1_output = stage1(\"d:/SI/tests/$key.mat\", reference3d; system=Tetragonal())[1]\n",
    "    stage2_output = stage2(\"d:/SI/tests/$key.mat\", reference3d; system=Tetragonal())[1]\n",
    "    N = stage1_output[2]\n",
    "    residual = stage2_output[2]\n",
    "    if stage1_output[1] == \"Sigma\" && stage2_output[1] == \"Sigma\" && stage1_output[2] == 10 \n",
    "        println(\"$key: test passed, N=$N(stage1), residual = $residual(stage2)\")\n",
    "    end\n",
    "end"
   ]
  }
 ],
 "metadata": {
  "kernelspec": {
   "display_name": "Julia 1.9.0-rc1",
   "language": "julia",
   "name": "julia-1.9"
  },
  "language_info": {
   "file_extension": ".jl",
   "mimetype": "application/julia",
   "name": "julia",
   "version": "1.9.0-rc1"
  },
  "orig_nbformat": 4
 },
 "nbformat": 4,
 "nbformat_minor": 2
}
